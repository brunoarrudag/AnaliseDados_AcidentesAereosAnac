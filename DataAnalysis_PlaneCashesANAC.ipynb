{
  "nbformat": 4,
  "nbformat_minor": 0,
  "metadata": {
    "colab": {
      "provenance": []
    },
    "kernelspec": {
      "name": "python3",
      "display_name": "Python 3"
    },
    "language_info": {
      "name": "python"
    }
  },
  "cells": [
    {
      "cell_type": "code",
      "execution_count": 6,
      "metadata": {
        "colab": {
          "base_uri": "https://localhost:8080/"
        },
        "id": "884NySLvR4LH",
        "outputId": "3a7575e4-a9c1-4afc-f6f5-667873d76fde"
      },
      "outputs": [
        {
          "output_type": "stream",
          "name": "stdout",
          "text": [
            "Drive already mounted at /content/drive/; to attempt to forcibly remount, call drive.mount(\"/content/drive/\", force_remount=True).\n"
          ]
        }
      ],
      "source": [
        "# Import of the needed libraries\n",
        "import pandas as pd\n",
        "import matplotlib.pyplot as plt\n",
        "\n",
        "# As I utilized the google collab, herw I'm mouting my drive.\n",
        "from google.colab import drive\n",
        "drive.mount('/content/drive/')\n",
        "\n",
        "# After drive mounting I'm loading the data from my file on the data frame \"acidentes_aereos\"\n",
        "plane_crashes = pd.read_csv('drive/MyDrive/Files/V_OCORRENCIA_AMPLA.csv', skiprows=1,sep=';')"
      ]
    },
    {
      "cell_type": "code",
      "source": [
        "# Quick check on the DataFrame's data types:\n",
        "plane_crashes.dtypes"
      ],
      "metadata": {
        "id": "xMwk_s2ZTiwR"
      },
      "execution_count": null,
      "outputs": []
    },
    {
      "cell_type": "code",
      "source": [
        "# Quick show on the DataFrame data:\n",
        "plane_crashes"
      ],
      "metadata": {
        "id": "FjszuH7uREIp"
      },
      "execution_count": null,
      "outputs": []
    },
    {
      "cell_type": "code",
      "source": [
        "# Counting the values of Classificacao_da_Ocorrencia's DataFrame column:\n",
        "values_amount = plane_crashes['Classificacao_da_Ocorrencia'].value_counts()\n",
        "\n",
        "# Generating the 1st bar chart to categorize the amount of Accidents and Incidents.\n",
        "values_amount.plot(kind='bar', figsize=(10, 6))\n",
        "plt.title('Contagem de Acidentes Por categorias')\n",
        "plt.xlabel('Valores')\n",
        "plt.ylabel('Contagem')\n",
        "plt.show()"
      ],
      "metadata": {
        "id": "6OCQnhMJVCTn"
      },
      "execution_count": null,
      "outputs": []
    },
    {
      "cell_type": "code",
      "source": [
        "# Converting the column Data_da_Ocorrencia to date\n",
        "plane_crashes['Data_da_Ocorrencia'] = pd.to_datetime(plane_crashes['Data_da_Ocorrencia'],format='%Y-%m-%d')\n",
        "\n",
        "# Extracting the year from the column Data_da_Ocorrencia\n",
        "plane_crashes['ano'] = plane_crashes['Data_da_Ocorrencia'].dt.year\n",
        "\n",
        "# Group data by year and count the amout of accidents by year.\n",
        "acidentes_por_ano = plane_crashes.groupby('ano').size()\n",
        "\n",
        "# Generating the line chart to show the evolution of accidents and incidents over the years.\n",
        "acidentes_por_ano.plot(kind='line', figsize=(10, 6))\n",
        "plt.title('Evolução dos Acidentes Aéreos ao Longo dos Anos')\n",
        "plt.xlabel('Ano')\n",
        "plt.ylabel('Número de Acidentes')\n",
        "plt.grid(True)\n",
        "plt.show()"
      ],
      "metadata": {
        "id": "mcb5t-GuXhWs"
      },
      "execution_count": null,
      "outputs": []
    }
  ]
}